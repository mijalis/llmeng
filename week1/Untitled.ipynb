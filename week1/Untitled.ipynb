{
 "cells": [
  {
   "cell_type": "code",
   "execution_count": 89,
   "id": "d0f8afef-b3ee-45f2-b682-ef48b6475a5f",
   "metadata": {},
   "outputs": [],
   "source": [
    "# And for some fun - press the stop button in the toolbar when bored!\n",
    "# It's like we've made our own Large Language Model... although not particularly large..\n",
    "# See if you understand why it prints a letter at a time, instead of a word at a time. If you're unsure, try removing the keyword \"from\" everywhere in the code.import random\n",
    "import time\n",
    "import random\n",
    "\n",
    "pronouns = [\"I\", \"You\", \"We\", \"They\"]\n",
    "verbs = [\"eat\", \"detest\", \"bathe in\", \"deny the existence of\", \"resent\", \"pontificate about\", \"juggle\", \"impersonate\", \"worship\", \"misplace\", \"conspire with\", \"philosophize about\", \"tap dance on\", \"dramatically renounce\", \"secretly collect\"]\n",
    "adjectives = [\"turqoise\", \"smelly\", \"arrogant\", \"festering\", \"pleasing\", \"whimsical\", \"disheveled\", \"pretentious\", \"wobbly\", \"melodramatic\", \"pompous\", \"fluorescent\", \"bewildered\", \"suspicious\", \"overripe\"]\n",
    "nouns = [\"turnips\", \"rodents\", \"eels\", \"walruses\", \"kumquats\", \"monocles\", \"spreadsheets\", \"bagpipes\", \"wombats\", \"accordions\", \"mustaches\", \"calculators\", \"jellyfish\", \"thermostats\"]\n",
    "\n",
    "def infinite_random_sentences():\n",
    "    while True:\n",
    "        yield from random.choice(adjectives)\n",
    "        #yield from adjectives\n",
    "        yield from \" \""
   ]
  },
  {
   "cell_type": "code",
   "execution_count": 100,
   "id": "0851bc78-394c-42ff-abb7-2458cb99ab55",
   "metadata": {},
   "outputs": [
    {
     "name": "stdout",
     "output_type": "stream",
     "text": [
      "w\n"
     ]
    }
   ],
   "source": [
    "letter = infinite_random_sentences()\n",
    "print(next(letter))"
   ]
  },
  {
   "cell_type": "code",
   "execution_count": 101,
   "id": "c6c0fdc1-42d8-4075-aaba-bd96bb9b9888",
   "metadata": {},
   "outputs": [
    {
     "name": "stdout",
     "output_type": "stream",
     "text": [
      "arrogant suspicious smelly turqoise turqoise disheveled melodramatic disheveled suspicious melodr"
     ]
    },
    {
     "ename": "KeyboardInterrupt",
     "evalue": "",
     "output_type": "error",
     "traceback": [
      "\u001b[31m---------------------------------------------------------------------------\u001b[39m",
      "\u001b[31mKeyboardInterrupt\u001b[39m                         Traceback (most recent call last)",
      "\u001b[36mCell\u001b[39m\u001b[36m \u001b[39m\u001b[32mIn[101]\u001b[39m\u001b[32m, line 4\u001b[39m\n\u001b[32m      2\u001b[39m \u001b[38;5;28mprint\u001b[39m(letter, end=\u001b[33m\"\u001b[39m\u001b[33m\"\u001b[39m)\n\u001b[32m      3\u001b[39m \u001b[38;5;66;03m#print(letter, flush=True)\u001b[39;00m\n\u001b[32m----> \u001b[39m\u001b[32m4\u001b[39m time.sleep(\u001b[32m0.1\u001b[39m)\n",
      "\u001b[31mKeyboardInterrupt\u001b[39m: "
     ]
    }
   ],
   "source": [
    "for letter in infinite_random_sentences():\n",
    "    print(letter, end=\"\")\n",
    "    #print(letter, flush=True)\n",
    "    time.sleep(0.1)"
   ]
  },
  {
   "cell_type": "code",
   "execution_count": 109,
   "id": "e0d0077f-b591-46a8-9def-b977d94b26e8",
   "metadata": {},
   "outputs": [
    {
     "name": "stdout",
     "output_type": "stream",
     "text": [
      "T\n",
      "h\n",
      "i\n",
      "s\n",
      " \n",
      "w\n",
      "i\n",
      "l\n",
      "l\n",
      "-\n",
      "s\n",
      "e\n"
     ]
    }
   ],
   "source": [
    "def multi_yield():\n",
    "    yield_str = \"This will\"\n",
    "    yield from yield_str\n",
    "    yield \"-\"\n",
    "    yield from \"second string\"\n",
    "    yield \"-\"\n",
    "    \n",
    "    \n",
    "multi_obj = multi_yield()\n",
    "print(next(multi_obj))\n",
    "print(next(multi_obj))\n",
    "print(next(multi_obj))\n",
    "print(next(multi_obj))\n",
    "print(next(multi_obj))\n",
    "print(next(multi_obj))\n",
    "print(next(multi_obj))\n",
    "print(next(multi_obj))\n",
    "print(next(multi_obj))\n",
    "print(next(multi_obj))\n",
    "print(next(multi_obj))\n",
    "print(next(multi_obj))"
   ]
  },
  {
   "cell_type": "code",
   "execution_count": null,
   "id": "e83f1a75-88a2-40fd-9115-469cd040bf0f",
   "metadata": {},
   "outputs": [],
   "source": []
  }
 ],
 "metadata": {
  "kernelspec": {
   "display_name": "Python 3 (ipykernel)",
   "language": "python",
   "name": "python3"
  },
  "language_info": {
   "codemirror_mode": {
    "name": "ipython",
    "version": 3
   },
   "file_extension": ".py",
   "mimetype": "text/x-python",
   "name": "python",
   "nbconvert_exporter": "python",
   "pygments_lexer": "ipython3",
   "version": "3.11.12"
  }
 },
 "nbformat": 4,
 "nbformat_minor": 5
}
