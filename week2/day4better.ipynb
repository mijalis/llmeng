{
 "cells": [
  {
   "cell_type": "code",
   "execution_count": 47,
   "id": "044e6c51-3f9a-4868-b9cf-910d8ab206eb",
   "metadata": {},
   "outputs": [],
   "source": [
    "import os\n",
    "import json\n",
    "from dotenv import load_dotenv\n",
    "from openai import OpenAI\n",
    "import gradio as gr\n",
    "\n",
    "gr.close_all()\n",
    "\n",
    "load_dotenv(override=True)\n",
    "\n",
    "openai_api_key = os.getenv('OPENAI_API_KEY')\n",
    "\n",
    "MODEL = \"gpt-4o-mini\"\n",
    "openai = OpenAI()\n",
    "\n",
    "# Let's start by making a useful function\n",
    "\n",
    "ticket_prices = {\"london\": \"$799\", \"paris\": \"$899\", \"tokyo\": \"$1400\", \"berlin\": \"$499\", \"athens\": \"€300\"}\n",
    "ticket_availability = {\"london\": \"yes\", \"paris\": \"limited\", \"tokyo\": \"low\", \"berlin\": \"high\", \"athens\": \"No\"}\n",
    "ticket_weather = {\"athens\": \"36\", \"paris\": \"26\", \"tokyo\": \"15\", \"berlin\": \"22\"}\n",
    "\n",
    "def get_ticket_price(destination_city):\n",
    "    print(f\"Tool get_ticket_price called for {destination_city}\")\n",
    "    city = destination_city.lower()\n",
    "    return ticket_prices.get(city, \"Unknown\")\n",
    "\n",
    "def get_ticket_availability(destination_city):\n",
    "    print(f\"Tool get_ticket_availability called for {destination_city}\")\n",
    "    city = destination_city.lower()\n",
    "    return ticket_availability.get(city, \"Unknown\")\n",
    "\n",
    "def get_weather(destination_city):\n",
    "    print(f\"Tool get_weather called for {destination_city}\")\n",
    "    city = destination_city.lower()\n",
    "    return ticket_weather.get(city, \"Unknown\")\n",
    "\n",
    "# Define your tools (functions)\n",
    "weather_function = {\n",
    "    \"name\": \"get_weather\",\n",
    "    \"description\": \"Returns the current weather for a given city.\",\n",
    "    \"parameters\": {\n",
    "        \"type\": \"object\",\n",
    "        \"properties\": {\n",
    "            \"destination_city\": {\n",
    "                \"type\": \"string\",\n",
    "                \"description\": \"The name of the city to get the weather for\"\n",
    "            }\n",
    "        },\n",
    "        \"required\": [\"destination_city\"]\n",
    "    }\n",
    "}\n",
    "\n",
    "price_function = {\n",
    "    \"name\": \"get_ticket_price\",\n",
    "    \"description\": \"Get the price of a return ticket to the destination city. Call this whenever you need to know the ticket price, for example when a customer asks 'How much is a ticket to this city'\",\n",
    "    \"parameters\": {\n",
    "        \"type\": \"object\",\n",
    "        \"properties\": {\n",
    "            \"destination_city\": {\n",
    "                \"type\": \"string\",\n",
    "                \"description\": \"The city that the customer wants to travel to\",\n",
    "            },\n",
    "        },\n",
    "        \"required\": [\"destination_city\"],\n",
    "        \"additionalProperties\": False\n",
    "    }\n",
    "}\n",
    "\n",
    "availability_function = {\n",
    "    \"name\": \"get_ticket_availability\",\n",
    "    \"description\": \"Get the ticket availabilty level to the destination city. Call this whenever you need to know the ticket availability, for example when a customer asks 'Are there any available tickets for this city?'\",\n",
    "    \"parameters\": {\n",
    "        \"type\": \"object\",\n",
    "        \"properties\": {\n",
    "            \"destination_city\": {\n",
    "                \"type\": \"string\",\n",
    "                \"description\": \"The city that the customer wants to travel to\",\n",
    "            },\n",
    "        },\n",
    "        \"required\": [\"destination_city\"],\n",
    "        \"additionalProperties\": False\n",
    "    }\n",
    "}\n",
    "\n",
    "# And this is included in a list of tools:\n",
    "tools = [\n",
    "    {\"type\": \"function\", \"function\": price_function},\n",
    "    {\"type\": \"function\", \"function\": availability_function},\n",
    "    {\"type\": \"function\", \"function\": weather_function}\n",
    "]\n",
    "\n",
    "# Dummy tool call handler\n",
    "def handle_tool_call(tool_call):\n",
    "    name = tool_call.function.name\n",
    "    args = json.loads(tool_call.function.arguments)\n",
    "    destination_city = args.get(\"destination_city\", \"unknown\")\n",
    "\n",
    "    if name == \"get_ticket_price\":\n",
    "        response = get_ticket_price(destination_city)\n",
    "    elif name == \"get_ticket_availability\":\n",
    "        response = get_ticket_availability(destination_city)\n",
    "    elif name == \"get_weather\":\n",
    "        response = get_weather(destination_city)\n",
    "    else:\n",
    "        response = \"Unknown tool.\"\n",
    "\n",
    "    return response\n",
    "\n",
    "system_message = \"You are a helpful assistant for an Airline called FlightAI. \"\n",
    "system_message += \"Give short, courteous answers, no more than 1 sentence. \"\n",
    "system_message += \"Always be accurate. If you don't know the answer, say so.\"\n",
    "\n",
    "# Chat function with multiple tool call support\n",
    "def chat(message, history):\n",
    "    smessage = {\"role\": \"system\", \"content\": system_message}\n",
    "    messages = [smessage] + history + [{\"role\": \"user\", \"content\": message}]\n",
    "    \n",
    "    # First model call\n",
    "    response = openai.chat.completions.create(\n",
    "        model=MODEL,\n",
    "        messages=messages,\n",
    "        tools=tools,\n",
    "        tool_choice=\"auto\"\n",
    "    )\n",
    "    \n",
    "    reply = response.choices[0].message\n",
    "    # If tool calls are requested\n",
    "    if response.choices[0].finish_reason==\"tool_calls\":\n",
    "        tool_calls = reply.tool_calls\n",
    "\n",
    "        for tool_call in tool_calls:\n",
    "            tool_response = handle_tool_call(tool_call)\n",
    "            print(tool_response)\n",
    "            # Append tool call\n",
    "            messages.append({\n",
    "                \"role\": \"assistant\",\n",
    "                \"tool_call_id\": tool_call.id,\n",
    "                \"content\": None,\n",
    "                \"tool_calls\": [tool_call]\n",
    "            })\n",
    "\n",
    "            # Append tool response\n",
    "            messages.append({\n",
    "                \"role\": \"tool\",\n",
    "                \"tool_call_id\": tool_call.id,\n",
    "                \"content\": tool_response\n",
    "            })\n",
    "\n",
    "        # Second model call with tool responses\n",
    "        response = openai.chat.completions.create(\n",
    "            model=MODEL,\n",
    "            messages=messages\n",
    "        )\n",
    "\n",
    "    return response.choices[0].message.content"
   ]
  },
  {
   "cell_type": "code",
   "execution_count": 48,
   "id": "3d0342a5-abdb-4f4c-a788-cae0f0518f8c",
   "metadata": {},
   "outputs": [
    {
     "name": "stdout",
     "output_type": "stream",
     "text": [
      "* Running on local URL:  http://127.0.0.1:7896\n",
      "* To create a public link, set `share=True` in `launch()`.\n"
     ]
    },
    {
     "data": {
      "text/html": [
       "<div><iframe src=\"http://127.0.0.1:7896/\" width=\"100%\" height=\"500\" allow=\"autoplay; camera; microphone; clipboard-read; clipboard-write;\" frameborder=\"0\" allowfullscreen></iframe></div>"
      ],
      "text/plain": [
       "<IPython.core.display.HTML object>"
      ]
     },
     "metadata": {},
     "output_type": "display_data"
    },
    {
     "data": {
      "text/plain": []
     },
     "execution_count": 48,
     "metadata": {},
     "output_type": "execute_result"
    },
    {
     "name": "stdout",
     "output_type": "stream",
     "text": [
      "[ChatCompletionMessageToolCall(id='call_1MEVC5OzAGZQ3vwhBWphsSD1', function=Function(arguments='{\"destination_city\": \"Tokyo\"}', name='get_ticket_price'), type='function'), ChatCompletionMessageToolCall(id='call_VQPKIEGCZsp9zYQ6JigcSKAf', function=Function(arguments='{\"destination_city\": \"Tokyo\"}', name='get_ticket_availability'), type='function'), ChatCompletionMessageToolCall(id='call_sUGZSMmF5rJI3pHfTuHwoa3G', function=Function(arguments='{\"destination_city\": \"Tokyo\"}', name='get_weather'), type='function')]\n",
      "Tool get_ticket_price called for Tokyo\n",
      "$1400\n",
      "Tool get_ticket_availability called for Tokyo\n",
      "low\n",
      "Tool get_weather called for Tokyo\n",
      "15\n",
      "[ChatCompletionMessageToolCall(id='call_EumVPj9PazrQzFUXUm7XAuSn', function=Function(arguments='{\"destination_city\": \"Athens\"}', name='get_weather'), type='function'), ChatCompletionMessageToolCall(id='call_8wWMxmVdmEpHHxbwkkGJmIMV', function=Function(arguments='{\"destination_city\": \"Athens\"}', name='get_ticket_availability'), type='function'), ChatCompletionMessageToolCall(id='call_531tygHNRl5EyHIYj4VhY8mG', function=Function(arguments='{\"destination_city\": \"Athens\"}', name='get_ticket_price'), type='function')]\n",
      "Tool get_weather called for Athens\n",
      "36\n",
      "Tool get_ticket_availability called for Athens\n",
      "No\n",
      "Tool get_ticket_price called for Athens\n",
      "€300\n",
      "[ChatCompletionMessageToolCall(id='call_pNZQ5txl0C4bP6MEwyOS0Ckr', function=Function(arguments='{\"destination_city\":\"Berlin\"}', name='get_ticket_price'), type='function')]\n",
      "Tool get_ticket_price called for Berlin\n",
      "$499\n"
     ]
    }
   ],
   "source": [
    "gr.ChatInterface(fn=chat, type=\"messages\").launch()"
   ]
  },
  {
   "cell_type": "code",
   "execution_count": 33,
   "id": "6c380773-9bd7-41d8-a9bf-8c24dfd4640f",
   "metadata": {},
   "outputs": [
    {
     "name": "stdout",
     "output_type": "stream",
     "text": [
      "Tool get_ticket_availability called for Paris\n"
     ]
    },
    {
     "data": {
      "text/plain": [
       "'limited'"
      ]
     },
     "execution_count": 33,
     "metadata": {},
     "output_type": "execute_result"
    }
   ],
   "source": [
    "get_ticket_availability(\"Paris\")"
   ]
  },
  {
   "cell_type": "code",
   "execution_count": 24,
   "id": "8f31b097-9062-4daa-b0d9-94b00fa70f4e",
   "metadata": {},
   "outputs": [
    {
     "name": "stdout",
     "output_type": "stream",
     "text": [
      "Tool get_ticket_availability called for Athens\n"
     ]
    },
    {
     "data": {
      "text/plain": [
       "'No'"
      ]
     },
     "execution_count": 24,
     "metadata": {},
     "output_type": "execute_result"
    }
   ],
   "source": [
    "get_ticket_availability(\"Athens\")"
   ]
  },
  {
   "cell_type": "code",
   "execution_count": 34,
   "id": "791fe8cf-e74d-49c1-aa3e-d879de9237e4",
   "metadata": {},
   "outputs": [
    {
     "name": "stdout",
     "output_type": "stream",
     "text": [
      "Tool get_ticket_price called for Athens\n"
     ]
    },
    {
     "data": {
      "text/plain": [
       "'€300'"
      ]
     },
     "execution_count": 34,
     "metadata": {},
     "output_type": "execute_result"
    }
   ],
   "source": [
    "get_ticket_price(\"Athens\")"
   ]
  },
  {
   "cell_type": "code",
   "execution_count": 35,
   "id": "3bddc8a1-bf2b-44a7-aff5-9cd4a806a670",
   "metadata": {},
   "outputs": [
    {
     "name": "stdout",
     "output_type": "stream",
     "text": [
      "Tool get_weather called for Athens\n"
     ]
    },
    {
     "data": {
      "text/plain": [
       "'36'"
      ]
     },
     "execution_count": 35,
     "metadata": {},
     "output_type": "execute_result"
    }
   ],
   "source": [
    "get_weather(\"Athens\")"
   ]
  },
  {
   "cell_type": "code",
   "execution_count": null,
   "id": "5d5b6331-4c62-451a-9df9-00c4612c2ecb",
   "metadata": {},
   "outputs": [],
   "source": []
  }
 ],
 "metadata": {
  "kernelspec": {
   "display_name": "Python 3 (ipykernel)",
   "language": "python",
   "name": "python3"
  },
  "language_info": {
   "codemirror_mode": {
    "name": "ipython",
    "version": 3
   },
   "file_extension": ".py",
   "mimetype": "text/x-python",
   "name": "python",
   "nbconvert_exporter": "python",
   "pygments_lexer": "ipython3",
   "version": "3.11.12"
  }
 },
 "nbformat": 4,
 "nbformat_minor": 5
}
