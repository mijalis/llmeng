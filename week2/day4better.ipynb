{
 "cells": [
  {
   "cell_type": "code",
   "execution_count": 5,
   "id": "044e6c51-3f9a-4868-b9cf-910d8ab206eb",
   "metadata": {},
   "outputs": [],
   "source": [
    "import os\n",
    "import json\n",
    "from dotenv import load_dotenv\n",
    "from openai import OpenAI\n",
    "import gradio as gr\n",
    "\n",
    "gr.close_all()\n",
    "\n",
    "load_dotenv(override=True)\n",
    "\n",
    "openai_api_key = os.getenv('OPENAI_API_KEY')\n",
    "\n",
    "MODEL = \"gpt-4o-mini\"\n",
    "openai = OpenAI()\n",
    "\n",
    "# Define your tools (functions)\n",
    "tools = [\n",
    "    {\n",
    "        \"type\": \"function\",\n",
    "        \"function\": {\n",
    "            \"name\": \"get_ticket_price\",\n",
    "            \"description\": \"Returns the ticket price for a given city.\",\n",
    "            \"parameters\": {\n",
    "                \"type\": \"object\",\n",
    "                \"properties\": {\n",
    "                    \"city\": {\n",
    "                        \"type\": \"string\",\n",
    "                        \"description\": \"The name of the city to get the ticket price for\"\n",
    "                    }\n",
    "                },\n",
    "                \"required\": [\"city\"]\n",
    "            }\n",
    "        }\n",
    "    },\n",
    "    {\n",
    "        \"type\": \"function\",\n",
    "        \"function\": {\n",
    "            \"name\": \"get_weather\",\n",
    "            \"description\": \"Returns the current weather for a given city.\",\n",
    "            \"parameters\": {\n",
    "                \"type\": \"object\",\n",
    "                \"properties\": {\n",
    "                    \"city\": {\n",
    "                        \"type\": \"string\",\n",
    "                        \"description\": \"The name of the city to get the weather for\"\n",
    "                    }\n",
    "                },\n",
    "                \"required\": [\"city\"]\n",
    "            }\n",
    "        }\n",
    "    }\n",
    "]\n",
    "\n",
    "# Dummy tool call handler\n",
    "def handle_tool_call(tool_call):\n",
    "    name = tool_call.function.name\n",
    "    args = json.loads(tool_call.function.arguments)\n",
    "    city = args.get(\"city\", \"unknown\")\n",
    "\n",
    "    if name == \"get_ticket_price\":\n",
    "        return f\"The ticket price to {city} is $799.\"\n",
    "    elif name == \"get_weather\":\n",
    "        return f\"The current weather in {city} is sunny and 25°C.\"\n",
    "    else:\n",
    "        return \"Unknown tool.\"\n",
    "\n",
    "system_message = \"You are a helpful assistant for an Airline called FlightAI. \"\n",
    "system_message += \"Give short, courteous answers, no more than 1 sentence. \"\n",
    "system_message += \"Always be accurate. If you don't know the answer, say so.\"\n",
    "\n",
    "# Chat function with multiple tool call support\n",
    "def chat(message, history):\n",
    "    smessage = {\"role\": \"system\", \"content\": system_message}\n",
    "    messages = [smessage] + history + [{\"role\": \"user\", \"content\": message}]\n",
    "    \n",
    "    # First model call\n",
    "    response = openai.chat.completions.create(\n",
    "        model=MODEL,\n",
    "        messages=messages,\n",
    "        tools=tools,\n",
    "        tool_choice=\"auto\"\n",
    "    )\n",
    "    \n",
    "    reply = response.choices[0].message\n",
    "    print(reply.tool_calls)\n",
    "    # If tool calls are requested\n",
    "    if response.choices[0].finish_reason==\"tool_calls\":\n",
    "        tool_calls = reply.tool_calls\n",
    "\n",
    "        for tool_call in tool_calls:\n",
    "            tool_response = handle_tool_call(tool_call)\n",
    "            print(tool_response)\n",
    "            # Append tool call\n",
    "            messages.append({\n",
    "                \"role\": \"assistant\",\n",
    "                \"tool_call_id\": tool_call.id,\n",
    "                \"content\": None,\n",
    "                \"tool_calls\": [tool_call]\n",
    "            })\n",
    "\n",
    "            # Append tool response\n",
    "            messages.append({\n",
    "                \"role\": \"tool\",\n",
    "                \"tool_call_id\": tool_call.id,\n",
    "                \"content\": tool_response\n",
    "            })\n",
    "\n",
    "        # Second model call with tool responses\n",
    "        response = openai.chat.completions.create(\n",
    "            model=MODEL,\n",
    "            messages=messages\n",
    "        )\n",
    "\n",
    "    return response.choices[0].message.content"
   ]
  },
  {
   "cell_type": "code",
   "execution_count": 6,
   "id": "3d0342a5-abdb-4f4c-a788-cae0f0518f8c",
   "metadata": {},
   "outputs": [
    {
     "name": "stdout",
     "output_type": "stream",
     "text": [
      "* Running on local URL:  http://127.0.0.1:7927\n",
      "* To create a public link, set `share=True` in `launch()`.\n"
     ]
    },
    {
     "data": {
      "text/html": [
       "<div><iframe src=\"http://127.0.0.1:7927/\" width=\"100%\" height=\"500\" allow=\"autoplay; camera; microphone; clipboard-read; clipboard-write;\" frameborder=\"0\" allowfullscreen></iframe></div>"
      ],
      "text/plain": [
       "<IPython.core.display.HTML object>"
      ]
     },
     "metadata": {},
     "output_type": "display_data"
    },
    {
     "data": {
      "text/plain": []
     },
     "execution_count": 6,
     "metadata": {},
     "output_type": "execute_result"
    },
    {
     "name": "stdout",
     "output_type": "stream",
     "text": [
      "None\n",
      "None\n",
      "[ChatCompletionMessageToolCall(id='call_DkKWUdJOllBJPke8zTuLgfuY', function=Function(arguments='{\"city\": \"Tokyo\"}', name='get_ticket_price'), type='function'), ChatCompletionMessageToolCall(id='call_zs0bRJ6xF1mPHEFFZf14I5dH', function=Function(arguments='{\"city\": \"Tokyo\"}', name='get_weather'), type='function')]\n",
      "The ticket price to Tokyo is $799.\n",
      "The current weather in Tokyo is sunny and 25°C.\n"
     ]
    }
   ],
   "source": [
    "gr.ChatInterface(fn=chat, type=\"messages\").launch()"
   ]
  },
  {
   "cell_type": "code",
   "execution_count": null,
   "id": "8f31b097-9062-4daa-b0d9-94b00fa70f4e",
   "metadata": {},
   "outputs": [],
   "source": []
  },
  {
   "cell_type": "code",
   "execution_count": null,
   "id": "791fe8cf-e74d-49c1-aa3e-d879de9237e4",
   "metadata": {},
   "outputs": [],
   "source": []
  }
 ],
 "metadata": {
  "kernelspec": {
   "display_name": "Python 3 (ipykernel)",
   "language": "python",
   "name": "python3"
  },
  "language_info": {
   "codemirror_mode": {
    "name": "ipython",
    "version": 3
   },
   "file_extension": ".py",
   "mimetype": "text/x-python",
   "name": "python",
   "nbconvert_exporter": "python",
   "pygments_lexer": "ipython3",
   "version": "3.11.12"
  }
 },
 "nbformat": 4,
 "nbformat_minor": 5
}
